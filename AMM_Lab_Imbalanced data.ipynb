{
 "cells": [
  {
   "cell_type": "code",
   "execution_count": 94,
   "id": "f9b2e87c-c8a9-4bb6-9f17-b8f437f14e11",
   "metadata": {},
   "outputs": [],
   "source": [
    "import pandas as pd\n",
    "from sklearn.model_selection import train_test_split\n",
    "from sklearn.preprocessing import StandardScaler\n",
    "from sklearn.linear_model import LogisticRegression\n",
    "from sklearn.metrics import accuracy_score, classification_report\n",
    "from sklearn.preprocessing import StandardScaler\n",
    "from imblearn.over_sampling import SMOTE\n",
    "from imblearn.under_sampling import TomekLinks\n",
    "\n"
   ]
  },
  {
   "cell_type": "code",
   "execution_count": 95,
   "id": "9ea444f1-f810-4127-9331-53569be94507",
   "metadata": {},
   "outputs": [],
   "source": [
    "file_path = \"customer_churn.csv\"\n",
    "data = pd.read_csv(file_path)"
   ]
  },
  {
   "cell_type": "code",
   "execution_count": 96,
   "id": "525fcc2f-5af1-40a5-a72e-8cd56e402d5f",
   "metadata": {},
   "outputs": [
    {
     "name": "stdout",
     "output_type": "stream",
     "text": [
      "   customerID  gender  SeniorCitizen Partner Dependents  tenure PhoneService   \n",
      "0  7590-VHVEG  Female              0     Yes         No       1           No  \\\n",
      "1  5575-GNVDE    Male              0      No         No      34          Yes   \n",
      "2  3668-QPYBK    Male              0      No         No       2          Yes   \n",
      "3  7795-CFOCW    Male              0      No         No      45           No   \n",
      "4  9237-HQITU  Female              0      No         No       2          Yes   \n",
      "\n",
      "      MultipleLines InternetService OnlineSecurity  ... DeviceProtection   \n",
      "0  No phone service             DSL             No  ...               No  \\\n",
      "1                No             DSL            Yes  ...              Yes   \n",
      "2                No             DSL            Yes  ...               No   \n",
      "3  No phone service             DSL            Yes  ...              Yes   \n",
      "4                No     Fiber optic             No  ...               No   \n",
      "\n",
      "  TechSupport StreamingTV StreamingMovies        Contract PaperlessBilling   \n",
      "0          No          No              No  Month-to-month              Yes  \\\n",
      "1          No          No              No        One year               No   \n",
      "2          No          No              No  Month-to-month              Yes   \n",
      "3         Yes          No              No        One year               No   \n",
      "4          No          No              No  Month-to-month              Yes   \n",
      "\n",
      "               PaymentMethod MonthlyCharges  TotalCharges Churn  \n",
      "0           Electronic check          29.85         29.85    No  \n",
      "1               Mailed check          56.95        1889.5    No  \n",
      "2               Mailed check          53.85        108.15   Yes  \n",
      "3  Bank transfer (automatic)          42.30       1840.75    No  \n",
      "4           Electronic check          70.70        151.65   Yes  \n",
      "\n",
      "[5 rows x 21 columns]\n"
     ]
    }
   ],
   "source": [
    "print(data.head())"
   ]
  },
  {
   "cell_type": "code",
   "execution_count": 97,
   "id": "c676b12a-7d32-437a-a46d-9f26e474ebdb",
   "metadata": {},
   "outputs": [
    {
     "name": "stdout",
     "output_type": "stream",
     "text": [
      "<class 'pandas.core.frame.DataFrame'>\n",
      "RangeIndex: 7043 entries, 0 to 7042\n",
      "Data columns (total 21 columns):\n",
      " #   Column            Non-Null Count  Dtype  \n",
      "---  ------            --------------  -----  \n",
      " 0   customerID        7043 non-null   object \n",
      " 1   gender            7043 non-null   object \n",
      " 2   SeniorCitizen     7043 non-null   int64  \n",
      " 3   Partner           7043 non-null   object \n",
      " 4   Dependents        7043 non-null   object \n",
      " 5   tenure            7043 non-null   int64  \n",
      " 6   PhoneService      7043 non-null   object \n",
      " 7   MultipleLines     7043 non-null   object \n",
      " 8   InternetService   7043 non-null   object \n",
      " 9   OnlineSecurity    7043 non-null   object \n",
      " 10  OnlineBackup      7043 non-null   object \n",
      " 11  DeviceProtection  7043 non-null   object \n",
      " 12  TechSupport       7043 non-null   object \n",
      " 13  StreamingTV       7043 non-null   object \n",
      " 14  StreamingMovies   7043 non-null   object \n",
      " 15  Contract          7043 non-null   object \n",
      " 16  PaperlessBilling  7043 non-null   object \n",
      " 17  PaymentMethod     7043 non-null   object \n",
      " 18  MonthlyCharges    7043 non-null   float64\n",
      " 19  TotalCharges      7043 non-null   object \n",
      " 20  Churn             7043 non-null   object \n",
      "dtypes: float64(1), int64(2), object(18)\n",
      "memory usage: 1.1+ MB\n",
      "None\n"
     ]
    }
   ],
   "source": [
    "print(data.info())"
   ]
  },
  {
   "cell_type": "code",
   "execution_count": 98,
   "id": "fb8215a4-5df5-4497-ba55-7311d94a4546",
   "metadata": {},
   "outputs": [
    {
     "name": "stdout",
     "output_type": "stream",
     "text": [
      "       SeniorCitizen       tenure  MonthlyCharges\n",
      "count    7043.000000  7043.000000     7043.000000\n",
      "mean        0.162147    32.371149       64.761692\n",
      "std         0.368612    24.559481       30.090047\n",
      "min         0.000000     0.000000       18.250000\n",
      "25%         0.000000     9.000000       35.500000\n",
      "50%         0.000000    29.000000       70.350000\n",
      "75%         0.000000    55.000000       89.850000\n",
      "max         1.000000    72.000000      118.750000\n"
     ]
    }
   ],
   "source": [
    "print(data.describe())"
   ]
  },
  {
   "cell_type": "markdown",
   "id": "ceeb50ce-1989-45cb-b2c2-740cb78e4ea5",
   "metadata": {},
   "source": [
    "SeniorCitizen:\n",
    "\n",
    "This column represents whether the customer is a senior citizen (1) or not (0).\n",
    "The dataset contains 7,043 entries.\n",
    "On average, around 16% of customers are senior citizens.\n",
    "The standard deviation is approximately 0.37, indicating a moderate amount of variability.\n",
    "\n",
    "The minimum value is 0 (not a senior citizen), and the maximum value is 1 (senior citizen).\n",
    "\n",
    "tenure:\n",
    "\n",
    "This column represents the number of months the customer has been with the company.\n",
    "The dataset contains 7,043 entries.\n",
    "On average, customers stay for around 32 months.\n",
    "The standard deviation is approximately 24.56, indicating a wide range of variation.\n",
    "\n",
    "The minimum tenure is 0 months, and the maximum is 72 months.\n",
    "25% of customers have a tenure of 9 months or less, while 75% have a tenure of 55 months or less.\n",
    "\n",
    "MonthlyCharges:\n",
    "\n",
    "This column represents the monthly amount charged to the customer.\n",
    "The dataset contains 7,043 entries.\n",
    "The average monthly charge is around 64.76.\n",
    "The standard deviation is approximately 30.09, indicating a considerable amount of variability.\n",
    "The minimum monthly charge is 18.25, and the maximum is 118.75.\n",
    "25% of customers are charged 35.5 or less per month, while 75% are charged 89.85 or less.\n",
    "\n",
    "These statistics give us an overview of the distribution and range of values for each of these numerical variables in the dataset.\n"
   ]
  },
  {
   "cell_type": "code",
   "execution_count": 99,
   "id": "20f64a6f-e722-477f-83cd-0818ab9e924d",
   "metadata": {},
   "outputs": [
    {
     "name": "stdout",
     "output_type": "stream",
     "text": [
      "customerID          0\n",
      "gender              0\n",
      "SeniorCitizen       0\n",
      "Partner             0\n",
      "Dependents          0\n",
      "tenure              0\n",
      "PhoneService        0\n",
      "MultipleLines       0\n",
      "InternetService     0\n",
      "OnlineSecurity      0\n",
      "OnlineBackup        0\n",
      "DeviceProtection    0\n",
      "TechSupport         0\n",
      "StreamingTV         0\n",
      "StreamingMovies     0\n",
      "Contract            0\n",
      "PaperlessBilling    0\n",
      "PaymentMethod       0\n",
      "MonthlyCharges      0\n",
      "TotalCharges        0\n",
      "Churn               0\n",
      "dtype: int64\n"
     ]
    }
   ],
   "source": [
    "print(data.isnull().sum())"
   ]
  },
  {
   "cell_type": "code",
   "execution_count": 100,
   "id": "f1378260-d861-412c-ab07-d29193135716",
   "metadata": {},
   "outputs": [
    {
     "name": "stdout",
     "output_type": "stream",
     "text": [
      "Unique values in customerID: ['7590-VHVEG' '5575-GNVDE' '3668-QPYBK' ... '4801-JZAZL' '8361-LTMKD'\n",
      " '3186-AJIEK']\n",
      "Unique values in gender: ['Female' 'Male']\n",
      "Unique values in Partner: ['Yes' 'No']\n",
      "Unique values in Dependents: ['No' 'Yes']\n",
      "Unique values in PhoneService: ['No' 'Yes']\n",
      "Unique values in MultipleLines: ['No phone service' 'No' 'Yes']\n",
      "Unique values in InternetService: ['DSL' 'Fiber optic' 'No']\n",
      "Unique values in OnlineSecurity: ['No' 'Yes' 'No internet service']\n",
      "Unique values in OnlineBackup: ['Yes' 'No' 'No internet service']\n",
      "Unique values in DeviceProtection: ['No' 'Yes' 'No internet service']\n",
      "Unique values in TechSupport: ['No' 'Yes' 'No internet service']\n",
      "Unique values in StreamingTV: ['No' 'Yes' 'No internet service']\n",
      "Unique values in StreamingMovies: ['No' 'Yes' 'No internet service']\n",
      "Unique values in Contract: ['Month-to-month' 'One year' 'Two year']\n",
      "Unique values in PaperlessBilling: ['Yes' 'No']\n",
      "Unique values in PaymentMethod: ['Electronic check' 'Mailed check' 'Bank transfer (automatic)'\n",
      " 'Credit card (automatic)']\n",
      "Unique values in TotalCharges: ['29.85' '1889.5' '108.15' ... '346.45' '306.6' '6844.5']\n",
      "Unique values in Churn: ['No' 'Yes']\n"
     ]
    }
   ],
   "source": [
    "for column in data.select_dtypes(include=['object']).columns:\n",
    "    print(f\"Unique values in {column}: {data[column].unique()}\")"
   ]
  },
  {
   "cell_type": "code",
   "execution_count": 101,
   "id": "b84ee61d-52da-4e48-bd9e-e013a94aa7e9",
   "metadata": {},
   "outputs": [
    {
     "name": "stdout",
     "output_type": "stream",
     "text": [
      "Churn\n",
      "No     5174\n",
      "Yes    1869\n",
      "Name: count, dtype: int64\n"
     ]
    }
   ],
   "source": [
    "print(data['Churn'].value_counts())"
   ]
  },
  {
   "cell_type": "markdown",
   "id": "059c8ed4-167c-4734-9215-2f0600968a8d",
   "metadata": {},
   "source": [
    "The \"Churn\" column indicates whether customers have churned or not from the service. The count shows:\n",
    "\n",
    "5,174 customers who did not churn (labeled as \"No\").\n",
    "1,869 customers who did churn (labeled as \"Yes\").\n",
    "This gives an overview of the class distribution, where there are more customers who did not churn compared to those who did.\n"
   ]
  },
  {
   "cell_type": "markdown",
   "id": "496e9f27-afb4-4c2b-a87b-934ea659eca4",
   "metadata": {},
   "source": [
    "_____________\n",
    "\n",
    "We are planning to build a logistic regression model to predict the \"Churn\" variable using the independent variables \"tenure\", \"SeniorCitizen\", and \"MonthlyCharges\". Logistic regression is commonly used for binary classification tasks like predicting whether a customer will churn (\"Yes\") or not (\"No\")."
   ]
  },
  {
   "cell_type": "code",
   "execution_count": 102,
   "id": "36cf9902-4f58-4596-9dba-d88751d4d3a6",
   "metadata": {},
   "outputs": [],
   "source": [
    "independent_vars = [\"tenure\", \"SeniorCitizen\", \"MonthlyCharges\"]\n",
    "X = data[independent_vars]\n",
    "y = data[\"Churn\"]"
   ]
  },
  {
   "cell_type": "code",
   "execution_count": 103,
   "id": "91494734-a5ec-4a25-a06b-52e8dd958a52",
   "metadata": {},
   "outputs": [],
   "source": [
    "X_train, X_test, y_train, y_test = train_test_split(X, y, test_size=0.2, random_state=42)\n"
   ]
  },
  {
   "cell_type": "code",
   "execution_count": 104,
   "id": "b10e6df6-66fa-4877-87d3-d54033c4451d",
   "metadata": {},
   "outputs": [],
   "source": [
    "scaler = StandardScaler()\n",
    "X_train_scaled = scaler.fit_transform(X_train)\n",
    "X_test_scaled = scaler.transform(X_test)\n"
   ]
  },
  {
   "cell_type": "code",
   "execution_count": 105,
   "id": "e5b5c6b7-40b1-418c-911e-a8d94b09cef5",
   "metadata": {},
   "outputs": [
    {
     "data": {
      "text/html": [
       "<style>#sk-container-id-7 {color: black;background-color: white;}#sk-container-id-7 pre{padding: 0;}#sk-container-id-7 div.sk-toggleable {background-color: white;}#sk-container-id-7 label.sk-toggleable__label {cursor: pointer;display: block;width: 100%;margin-bottom: 0;padding: 0.3em;box-sizing: border-box;text-align: center;}#sk-container-id-7 label.sk-toggleable__label-arrow:before {content: \"▸\";float: left;margin-right: 0.25em;color: #696969;}#sk-container-id-7 label.sk-toggleable__label-arrow:hover:before {color: black;}#sk-container-id-7 div.sk-estimator:hover label.sk-toggleable__label-arrow:before {color: black;}#sk-container-id-7 div.sk-toggleable__content {max-height: 0;max-width: 0;overflow: hidden;text-align: left;background-color: #f0f8ff;}#sk-container-id-7 div.sk-toggleable__content pre {margin: 0.2em;color: black;border-radius: 0.25em;background-color: #f0f8ff;}#sk-container-id-7 input.sk-toggleable__control:checked~div.sk-toggleable__content {max-height: 200px;max-width: 100%;overflow: auto;}#sk-container-id-7 input.sk-toggleable__control:checked~label.sk-toggleable__label-arrow:before {content: \"▾\";}#sk-container-id-7 div.sk-estimator input.sk-toggleable__control:checked~label.sk-toggleable__label {background-color: #d4ebff;}#sk-container-id-7 div.sk-label input.sk-toggleable__control:checked~label.sk-toggleable__label {background-color: #d4ebff;}#sk-container-id-7 input.sk-hidden--visually {border: 0;clip: rect(1px 1px 1px 1px);clip: rect(1px, 1px, 1px, 1px);height: 1px;margin: -1px;overflow: hidden;padding: 0;position: absolute;width: 1px;}#sk-container-id-7 div.sk-estimator {font-family: monospace;background-color: #f0f8ff;border: 1px dotted black;border-radius: 0.25em;box-sizing: border-box;margin-bottom: 0.5em;}#sk-container-id-7 div.sk-estimator:hover {background-color: #d4ebff;}#sk-container-id-7 div.sk-parallel-item::after {content: \"\";width: 100%;border-bottom: 1px solid gray;flex-grow: 1;}#sk-container-id-7 div.sk-label:hover label.sk-toggleable__label {background-color: #d4ebff;}#sk-container-id-7 div.sk-serial::before {content: \"\";position: absolute;border-left: 1px solid gray;box-sizing: border-box;top: 0;bottom: 0;left: 50%;z-index: 0;}#sk-container-id-7 div.sk-serial {display: flex;flex-direction: column;align-items: center;background-color: white;padding-right: 0.2em;padding-left: 0.2em;position: relative;}#sk-container-id-7 div.sk-item {position: relative;z-index: 1;}#sk-container-id-7 div.sk-parallel {display: flex;align-items: stretch;justify-content: center;background-color: white;position: relative;}#sk-container-id-7 div.sk-item::before, #sk-container-id-7 div.sk-parallel-item::before {content: \"\";position: absolute;border-left: 1px solid gray;box-sizing: border-box;top: 0;bottom: 0;left: 50%;z-index: -1;}#sk-container-id-7 div.sk-parallel-item {display: flex;flex-direction: column;z-index: 1;position: relative;background-color: white;}#sk-container-id-7 div.sk-parallel-item:first-child::after {align-self: flex-end;width: 50%;}#sk-container-id-7 div.sk-parallel-item:last-child::after {align-self: flex-start;width: 50%;}#sk-container-id-7 div.sk-parallel-item:only-child::after {width: 0;}#sk-container-id-7 div.sk-dashed-wrapped {border: 1px dashed gray;margin: 0 0.4em 0.5em 0.4em;box-sizing: border-box;padding-bottom: 0.4em;background-color: white;}#sk-container-id-7 div.sk-label label {font-family: monospace;font-weight: bold;display: inline-block;line-height: 1.2em;}#sk-container-id-7 div.sk-label-container {text-align: center;}#sk-container-id-7 div.sk-container {/* jupyter's `normalize.less` sets `[hidden] { display: none; }` but bootstrap.min.css set `[hidden] { display: none !important; }` so we also need the `!important` here to be able to override the default hidden behavior on the sphinx rendered scikit-learn.org. See: https://github.com/scikit-learn/scikit-learn/issues/21755 */display: inline-block !important;position: relative;}#sk-container-id-7 div.sk-text-repr-fallback {display: none;}</style><div id=\"sk-container-id-7\" class=\"sk-top-container\"><div class=\"sk-text-repr-fallback\"><pre>LogisticRegression()</pre><b>In a Jupyter environment, please rerun this cell to show the HTML representation or trust the notebook. <br />On GitHub, the HTML representation is unable to render, please try loading this page with nbviewer.org.</b></div><div class=\"sk-container\" hidden><div class=\"sk-item\"><div class=\"sk-estimator sk-toggleable\"><input class=\"sk-toggleable__control sk-hidden--visually\" id=\"sk-estimator-id-7\" type=\"checkbox\" checked><label for=\"sk-estimator-id-7\" class=\"sk-toggleable__label sk-toggleable__label-arrow\">LogisticRegression</label><div class=\"sk-toggleable__content\"><pre>LogisticRegression()</pre></div></div></div></div></div>"
      ],
      "text/plain": [
       "LogisticRegression()"
      ]
     },
     "execution_count": 105,
     "metadata": {},
     "output_type": "execute_result"
    }
   ],
   "source": [
    "logreg_model = LogisticRegression()\n",
    "logreg_model.fit(X_train_scaled, y_train)\n"
   ]
  },
  {
   "cell_type": "code",
   "execution_count": 106,
   "id": "cd504a49-3afd-4045-a8da-bde1605da5e9",
   "metadata": {},
   "outputs": [],
   "source": [
    "y_pred = logreg_model.predict(X_test_scaled)"
   ]
  },
  {
   "cell_type": "code",
   "execution_count": 107,
   "id": "60d4cd34-85bb-4b7b-b632-5560af187cbe",
   "metadata": {},
   "outputs": [],
   "source": [
    "accuracy = accuracy_score(y_test, y_pred)\n",
    "classification_rep = classification_report(y_test, y_pred)"
   ]
  },
  {
   "cell_type": "code",
   "execution_count": 108,
   "id": "1c897d17-c545-4295-af74-5a5a30c43c47",
   "metadata": {},
   "outputs": [
    {
     "name": "stdout",
     "output_type": "stream",
     "text": [
      "Accuracy: 0.81\n",
      "Classification Report:\n",
      "               precision    recall  f1-score   support\n",
      "\n",
      "          No       0.83      0.92      0.88      1036\n",
      "         Yes       0.70      0.49      0.57       373\n",
      "\n",
      "    accuracy                           0.81      1409\n",
      "   macro avg       0.76      0.70      0.72      1409\n",
      "weighted avg       0.80      0.81      0.80      1409\n",
      "\n"
     ]
    }
   ],
   "source": [
    "print(f\"Accuracy: {accuracy:.2f}\")\n",
    "print(\"Classification Report:\\n\", classification_rep)"
   ]
  },
  {
   "cell_type": "markdown",
   "id": "2f745b4c-3402-4f43-9236-1bddd492ec0d",
   "metadata": {},
   "source": [
    "Accuracy: 0.81\n",
    "\n",
    "The model's overall accuracy is 81%, indicating the proportion of correct predictions over the total number of predictions.\n",
    "\n",
    "Classification Report:\n",
    "\n",
    "Precision: For customers labeled as \"Yes\" (churned), the model's precision is 70%. For customers labeled as \"No\" (not churned), the precision is 83%. Precision measures the proportion of correct positive predictions among all positive predictions.\n",
    "\n",
    "Recall: The model's recall for customers labeled as \"Yes\" (churned) is 49%, and for customers labeled as \"No\" (not churned), it's 92%. Recall measures the proportion of actual positive cases that were correctly predicted.\n",
    "\n",
    "F1-score: The F1-score for \"Yes\" (churned) is 0.57, and for \"No\" (not churned), it's 0.88. The F1-score is the harmonic mean of precision and recall and gives a balanced measure of a model's accuracy.\n",
    "\n",
    "Support: The number of instances for each class in the testing set is 373 for \"Yes\" (churned) and 1036 for \"No\" (not churned).\n",
    "\n",
    "Macro Avg: The macro average F1-score is 0.72, and the macro average considers each class equally, providing a general assessment of the model's performance.\n",
    "\n",
    "Weighted Avg: The weighted average F1-score is 0.80, and the weighted average accounts for class imbalance by considering each class's support, providing a more representative measure of the model's overall performance.\n",
    "\n",
    "In summary, the model has an accuracy of 81%, but it performs better at identifying customers who didn't churn (\"No\") compared to those who did (\"Yes\"). The precision, recall, and F1-score provide a more detailed view of the model's performance across different classes."
   ]
  },
  {
   "cell_type": "code",
   "execution_count": 109,
   "id": "d16fc76a-c1ac-43fa-9f80-706bc6c85743",
   "metadata": {},
   "outputs": [],
   "source": [
    "target_variable = data[\"Churn\"]"
   ]
  },
  {
   "cell_type": "code",
   "execution_count": 110,
   "id": "cf92ba21-0d9e-4bc6-bad8-292ff39dc6f8",
   "metadata": {},
   "outputs": [
    {
     "name": "stdout",
     "output_type": "stream",
     "text": [
      "0        No\n",
      "1        No\n",
      "2       Yes\n",
      "3        No\n",
      "4       Yes\n",
      "       ... \n",
      "7038     No\n",
      "7039     No\n",
      "7040     No\n",
      "7041    Yes\n",
      "7042     No\n",
      "Name: Churn, Length: 7043, dtype: object\n"
     ]
    }
   ],
   "source": [
    "print(target_variable)"
   ]
  },
  {
   "cell_type": "markdown",
   "id": "447c953e-3b5c-4318-9cd5-0d2950cbc688",
   "metadata": {},
   "source": [
    "The target variable \"Churn\" represents whether a customer has churned from the service. The results provided are a list of binary labels for each customer in the dataset:\n",
    "\n",
    "\"No\": This label indicates that the customer did not churn from the service.\n",
    "\n",
    "\"Yes\": This label indicates that the customer did churn from the service.\n",
    "\n",
    "The list of labels shows the churn status for each of the 7,043 customers in the dataset. This variable is used as the ground truth for training and evaluating the predictive model."
   ]
  },
  {
   "cell_type": "code",
   "execution_count": 111,
   "id": "b3aa6118-cdda-4b23-903a-57f9b8b40c01",
   "metadata": {},
   "outputs": [],
   "source": [
    "# Extract the independent variables\n",
    "independent_vars = [\"tenure\", \"SeniorCitizen\", \"MonthlyCharges\"]\n",
    "X = data[independent_vars]"
   ]
  },
  {
   "cell_type": "code",
   "execution_count": 112,
   "id": "f95ab222-1b98-4ee9-844b-756bb59d69a1",
   "metadata": {},
   "outputs": [],
   "source": [
    "scaler = StandardScaler()\n",
    "X_scaled = scaler.fit_transform(X)"
   ]
  },
  {
   "cell_type": "code",
   "execution_count": 113,
   "id": "bd2138a1-fa8d-4f45-b0a3-59e843ef3188",
   "metadata": {},
   "outputs": [
    {
     "name": "stdout",
     "output_type": "stream",
     "text": [
      "[[-1.27744458 -0.43991649 -1.16032292]\n",
      " [ 0.06632742 -0.43991649 -0.25962894]\n",
      " [-1.23672422 -0.43991649 -0.36266036]\n",
      " ...\n",
      " [-0.87024095 -0.43991649 -1.1686319 ]\n",
      " [-1.15528349  2.27315869  0.32033821]\n",
      " [ 1.36937906 -0.43991649  1.35896134]]\n"
     ]
    }
   ],
   "source": [
    "print(X_scaled)"
   ]
  },
  {
   "cell_type": "markdown",
   "id": "9fa9b16e-2603-47b3-be49-7697473ec999",
   "metadata": {},
   "source": [
    "The results show the scaled values of the independent variables for each customer:\n",
    "\n",
    "Scaling makes the values easier for the model to work with by putting them on a similar scale and adjusting for differences between variables. Each row in the results corresponds to a customer, and each column represents one of these variables."
   ]
  },
  {
   "cell_type": "markdown",
   "id": "da51ab77-a983-4b69-86e3-24761a0bf8b3",
   "metadata": {},
   "source": [
    "second regresion model"
   ]
  },
  {
   "cell_type": "code",
   "execution_count": 114,
   "id": "be2d0721-cb97-47c6-93cf-35feb4f9a165",
   "metadata": {},
   "outputs": [],
   "source": [
    "independent_vars = [\"tenure\", \"SeniorCitizen\", \"MonthlyCharges\"]\n",
    "X = data[independent_vars]\n",
    "y = data[\"Churn\"]"
   ]
  },
  {
   "cell_type": "code",
   "execution_count": 115,
   "id": "5944469a-5ff4-4336-9e4b-b5ddd585e311",
   "metadata": {},
   "outputs": [],
   "source": [
    "X_train, X_test, y_train, y_test = train_test_split(X, y, test_size=0.2, random_state=42)"
   ]
  },
  {
   "cell_type": "code",
   "execution_count": 116,
   "id": "dc0b7036-e4d3-46ac-8801-698145234b2d",
   "metadata": {},
   "outputs": [],
   "source": [
    "scaler = StandardScaler()\n",
    "X_train_scaled = scaler.fit_transform(X_train)\n",
    "X_test_scaled = scaler.transform(X_test)\n"
   ]
  },
  {
   "cell_type": "code",
   "execution_count": 117,
   "id": "83506997-8a51-4d6f-bb18-b4f12ab84026",
   "metadata": {},
   "outputs": [
    {
     "data": {
      "text/html": [
       "<style>#sk-container-id-8 {color: black;background-color: white;}#sk-container-id-8 pre{padding: 0;}#sk-container-id-8 div.sk-toggleable {background-color: white;}#sk-container-id-8 label.sk-toggleable__label {cursor: pointer;display: block;width: 100%;margin-bottom: 0;padding: 0.3em;box-sizing: border-box;text-align: center;}#sk-container-id-8 label.sk-toggleable__label-arrow:before {content: \"▸\";float: left;margin-right: 0.25em;color: #696969;}#sk-container-id-8 label.sk-toggleable__label-arrow:hover:before {color: black;}#sk-container-id-8 div.sk-estimator:hover label.sk-toggleable__label-arrow:before {color: black;}#sk-container-id-8 div.sk-toggleable__content {max-height: 0;max-width: 0;overflow: hidden;text-align: left;background-color: #f0f8ff;}#sk-container-id-8 div.sk-toggleable__content pre {margin: 0.2em;color: black;border-radius: 0.25em;background-color: #f0f8ff;}#sk-container-id-8 input.sk-toggleable__control:checked~div.sk-toggleable__content {max-height: 200px;max-width: 100%;overflow: auto;}#sk-container-id-8 input.sk-toggleable__control:checked~label.sk-toggleable__label-arrow:before {content: \"▾\";}#sk-container-id-8 div.sk-estimator input.sk-toggleable__control:checked~label.sk-toggleable__label {background-color: #d4ebff;}#sk-container-id-8 div.sk-label input.sk-toggleable__control:checked~label.sk-toggleable__label {background-color: #d4ebff;}#sk-container-id-8 input.sk-hidden--visually {border: 0;clip: rect(1px 1px 1px 1px);clip: rect(1px, 1px, 1px, 1px);height: 1px;margin: -1px;overflow: hidden;padding: 0;position: absolute;width: 1px;}#sk-container-id-8 div.sk-estimator {font-family: monospace;background-color: #f0f8ff;border: 1px dotted black;border-radius: 0.25em;box-sizing: border-box;margin-bottom: 0.5em;}#sk-container-id-8 div.sk-estimator:hover {background-color: #d4ebff;}#sk-container-id-8 div.sk-parallel-item::after {content: \"\";width: 100%;border-bottom: 1px solid gray;flex-grow: 1;}#sk-container-id-8 div.sk-label:hover label.sk-toggleable__label {background-color: #d4ebff;}#sk-container-id-8 div.sk-serial::before {content: \"\";position: absolute;border-left: 1px solid gray;box-sizing: border-box;top: 0;bottom: 0;left: 50%;z-index: 0;}#sk-container-id-8 div.sk-serial {display: flex;flex-direction: column;align-items: center;background-color: white;padding-right: 0.2em;padding-left: 0.2em;position: relative;}#sk-container-id-8 div.sk-item {position: relative;z-index: 1;}#sk-container-id-8 div.sk-parallel {display: flex;align-items: stretch;justify-content: center;background-color: white;position: relative;}#sk-container-id-8 div.sk-item::before, #sk-container-id-8 div.sk-parallel-item::before {content: \"\";position: absolute;border-left: 1px solid gray;box-sizing: border-box;top: 0;bottom: 0;left: 50%;z-index: -1;}#sk-container-id-8 div.sk-parallel-item {display: flex;flex-direction: column;z-index: 1;position: relative;background-color: white;}#sk-container-id-8 div.sk-parallel-item:first-child::after {align-self: flex-end;width: 50%;}#sk-container-id-8 div.sk-parallel-item:last-child::after {align-self: flex-start;width: 50%;}#sk-container-id-8 div.sk-parallel-item:only-child::after {width: 0;}#sk-container-id-8 div.sk-dashed-wrapped {border: 1px dashed gray;margin: 0 0.4em 0.5em 0.4em;box-sizing: border-box;padding-bottom: 0.4em;background-color: white;}#sk-container-id-8 div.sk-label label {font-family: monospace;font-weight: bold;display: inline-block;line-height: 1.2em;}#sk-container-id-8 div.sk-label-container {text-align: center;}#sk-container-id-8 div.sk-container {/* jupyter's `normalize.less` sets `[hidden] { display: none; }` but bootstrap.min.css set `[hidden] { display: none !important; }` so we also need the `!important` here to be able to override the default hidden behavior on the sphinx rendered scikit-learn.org. See: https://github.com/scikit-learn/scikit-learn/issues/21755 */display: inline-block !important;position: relative;}#sk-container-id-8 div.sk-text-repr-fallback {display: none;}</style><div id=\"sk-container-id-8\" class=\"sk-top-container\"><div class=\"sk-text-repr-fallback\"><pre>LogisticRegression()</pre><b>In a Jupyter environment, please rerun this cell to show the HTML representation or trust the notebook. <br />On GitHub, the HTML representation is unable to render, please try loading this page with nbviewer.org.</b></div><div class=\"sk-container\" hidden><div class=\"sk-item\"><div class=\"sk-estimator sk-toggleable\"><input class=\"sk-toggleable__control sk-hidden--visually\" id=\"sk-estimator-id-8\" type=\"checkbox\" checked><label for=\"sk-estimator-id-8\" class=\"sk-toggleable__label sk-toggleable__label-arrow\">LogisticRegression</label><div class=\"sk-toggleable__content\"><pre>LogisticRegression()</pre></div></div></div></div></div>"
      ],
      "text/plain": [
       "LogisticRegression()"
      ]
     },
     "execution_count": 117,
     "metadata": {},
     "output_type": "execute_result"
    }
   ],
   "source": [
    "logreg_model = LogisticRegression()\n",
    "logreg_model.fit(X_train_scaled, y_train)"
   ]
  },
  {
   "cell_type": "code",
   "execution_count": 118,
   "id": "e779aef6-244b-408a-9813-c5885fa031ab",
   "metadata": {},
   "outputs": [],
   "source": [
    "y_pred = logreg_model.predict(X_test_scaled)"
   ]
  },
  {
   "cell_type": "code",
   "execution_count": 119,
   "id": "80a33725-aae4-48e3-b904-cb4bf4c3728f",
   "metadata": {},
   "outputs": [
    {
     "name": "stdout",
     "output_type": "stream",
     "text": [
      "Model Accuracy: 0.81\n"
     ]
    }
   ],
   "source": [
    "accuracy = accuracy_score(y_test, y_pred)\n",
    "print(f\"Model Accuracy: {accuracy:.2f}\")"
   ]
  },
  {
   "cell_type": "markdown",
   "id": "4abe1bda-1954-4362-92fa-5dd5687e61df",
   "metadata": {},
   "source": [
    "An accuracy of 0.81 means that the model's predictions match the actual outcomes for around 81% of the customers regarding whether they churned or not. It's a good sign that the model is performing reasonably well in predicting customer churn."
   ]
  },
  {
   "cell_type": "markdown",
   "id": "7d464dae-de18-4bfd-b581-e5266ef4b04b",
   "metadata": {},
   "source": [
    "Even a simple model can provide more than 70% accuracy because the dataset might have inherent patterns that a basic model like logistic regression can capture. Additionally, if the classes are not extremely imbalanced and there are some distinguishing features between customers who churn and those who don't, a simple model can learn and generalize reasonably well.\n",
    "\n",
    "It's important to note that achieving a high accuracy doesn't necessarily mean the model is perfect. It might miss some important nuances and struggle with predicting the minority class accurately. In imbalanced datasets, it's crucial to consider other metrics like precision, recall, and the F1-score to understand the model's performance more comprehensively, especially in the context of customer churn prediction."
   ]
  },
  {
   "cell_type": "code",
   "execution_count": 120,
   "id": "23b2c51d-12c5-4d1e-b973-44d9ae608072",
   "metadata": {},
   "outputs": [],
   "source": [
    "independent_vars = [\"tenure\", \"SeniorCitizen\", \"MonthlyCharges\"]\n",
    "X = data[independent_vars]\n",
    "y = data[\"Churn\"]\n"
   ]
  },
  {
   "cell_type": "code",
   "execution_count": 121,
   "id": "fef4d2d8-853e-4767-861a-4daa398f6f06",
   "metadata": {},
   "outputs": [],
   "source": [
    "X_train, X_test, y_train, y_test = train_test_split(X, y, test_size=0.2, random_state=42)"
   ]
  },
  {
   "cell_type": "code",
   "execution_count": 122,
   "id": "8dac0d20-55f2-4284-88e7-cd76a9f2fb3f",
   "metadata": {},
   "outputs": [],
   "source": [
    "scaler = StandardScaler()\n",
    "X_train_scaled = scaler.fit_transform(X_train)\n",
    "X_test_scaled = scaler.transform(X_test)"
   ]
  },
  {
   "cell_type": "code",
   "execution_count": 123,
   "id": "751901cf-65c5-4c1e-980c-e146eebf830e",
   "metadata": {},
   "outputs": [],
   "source": [
    "smote = SMOTE(random_state=42)\n",
    "X_train_resampled, y_train_resampled = smote.fit_resample(X_train_scaled, y_train)\n"
   ]
  },
  {
   "cell_type": "code",
   "execution_count": 124,
   "id": "f60eb865-8a5d-4aa7-89e2-e78a8e50749a",
   "metadata": {},
   "outputs": [
    {
     "data": {
      "text/html": [
       "<style>#sk-container-id-9 {color: black;background-color: white;}#sk-container-id-9 pre{padding: 0;}#sk-container-id-9 div.sk-toggleable {background-color: white;}#sk-container-id-9 label.sk-toggleable__label {cursor: pointer;display: block;width: 100%;margin-bottom: 0;padding: 0.3em;box-sizing: border-box;text-align: center;}#sk-container-id-9 label.sk-toggleable__label-arrow:before {content: \"▸\";float: left;margin-right: 0.25em;color: #696969;}#sk-container-id-9 label.sk-toggleable__label-arrow:hover:before {color: black;}#sk-container-id-9 div.sk-estimator:hover label.sk-toggleable__label-arrow:before {color: black;}#sk-container-id-9 div.sk-toggleable__content {max-height: 0;max-width: 0;overflow: hidden;text-align: left;background-color: #f0f8ff;}#sk-container-id-9 div.sk-toggleable__content pre {margin: 0.2em;color: black;border-radius: 0.25em;background-color: #f0f8ff;}#sk-container-id-9 input.sk-toggleable__control:checked~div.sk-toggleable__content {max-height: 200px;max-width: 100%;overflow: auto;}#sk-container-id-9 input.sk-toggleable__control:checked~label.sk-toggleable__label-arrow:before {content: \"▾\";}#sk-container-id-9 div.sk-estimator input.sk-toggleable__control:checked~label.sk-toggleable__label {background-color: #d4ebff;}#sk-container-id-9 div.sk-label input.sk-toggleable__control:checked~label.sk-toggleable__label {background-color: #d4ebff;}#sk-container-id-9 input.sk-hidden--visually {border: 0;clip: rect(1px 1px 1px 1px);clip: rect(1px, 1px, 1px, 1px);height: 1px;margin: -1px;overflow: hidden;padding: 0;position: absolute;width: 1px;}#sk-container-id-9 div.sk-estimator {font-family: monospace;background-color: #f0f8ff;border: 1px dotted black;border-radius: 0.25em;box-sizing: border-box;margin-bottom: 0.5em;}#sk-container-id-9 div.sk-estimator:hover {background-color: #d4ebff;}#sk-container-id-9 div.sk-parallel-item::after {content: \"\";width: 100%;border-bottom: 1px solid gray;flex-grow: 1;}#sk-container-id-9 div.sk-label:hover label.sk-toggleable__label {background-color: #d4ebff;}#sk-container-id-9 div.sk-serial::before {content: \"\";position: absolute;border-left: 1px solid gray;box-sizing: border-box;top: 0;bottom: 0;left: 50%;z-index: 0;}#sk-container-id-9 div.sk-serial {display: flex;flex-direction: column;align-items: center;background-color: white;padding-right: 0.2em;padding-left: 0.2em;position: relative;}#sk-container-id-9 div.sk-item {position: relative;z-index: 1;}#sk-container-id-9 div.sk-parallel {display: flex;align-items: stretch;justify-content: center;background-color: white;position: relative;}#sk-container-id-9 div.sk-item::before, #sk-container-id-9 div.sk-parallel-item::before {content: \"\";position: absolute;border-left: 1px solid gray;box-sizing: border-box;top: 0;bottom: 0;left: 50%;z-index: -1;}#sk-container-id-9 div.sk-parallel-item {display: flex;flex-direction: column;z-index: 1;position: relative;background-color: white;}#sk-container-id-9 div.sk-parallel-item:first-child::after {align-self: flex-end;width: 50%;}#sk-container-id-9 div.sk-parallel-item:last-child::after {align-self: flex-start;width: 50%;}#sk-container-id-9 div.sk-parallel-item:only-child::after {width: 0;}#sk-container-id-9 div.sk-dashed-wrapped {border: 1px dashed gray;margin: 0 0.4em 0.5em 0.4em;box-sizing: border-box;padding-bottom: 0.4em;background-color: white;}#sk-container-id-9 div.sk-label label {font-family: monospace;font-weight: bold;display: inline-block;line-height: 1.2em;}#sk-container-id-9 div.sk-label-container {text-align: center;}#sk-container-id-9 div.sk-container {/* jupyter's `normalize.less` sets `[hidden] { display: none; }` but bootstrap.min.css set `[hidden] { display: none !important; }` so we also need the `!important` here to be able to override the default hidden behavior on the sphinx rendered scikit-learn.org. See: https://github.com/scikit-learn/scikit-learn/issues/21755 */display: inline-block !important;position: relative;}#sk-container-id-9 div.sk-text-repr-fallback {display: none;}</style><div id=\"sk-container-id-9\" class=\"sk-top-container\"><div class=\"sk-text-repr-fallback\"><pre>LogisticRegression()</pre><b>In a Jupyter environment, please rerun this cell to show the HTML representation or trust the notebook. <br />On GitHub, the HTML representation is unable to render, please try loading this page with nbviewer.org.</b></div><div class=\"sk-container\" hidden><div class=\"sk-item\"><div class=\"sk-estimator sk-toggleable\"><input class=\"sk-toggleable__control sk-hidden--visually\" id=\"sk-estimator-id-9\" type=\"checkbox\" checked><label for=\"sk-estimator-id-9\" class=\"sk-toggleable__label sk-toggleable__label-arrow\">LogisticRegression</label><div class=\"sk-toggleable__content\"><pre>LogisticRegression()</pre></div></div></div></div></div>"
      ],
      "text/plain": [
       "LogisticRegression()"
      ]
     },
     "execution_count": 124,
     "metadata": {},
     "output_type": "execute_result"
    }
   ],
   "source": [
    "logreg_model = LogisticRegression()\n",
    "logreg_model.fit(X_train_resampled, y_train_resampled)\n"
   ]
  },
  {
   "cell_type": "code",
   "execution_count": 125,
   "id": "9d7679bc-5177-4fc9-bfbf-8255135eaf34",
   "metadata": {},
   "outputs": [],
   "source": [
    "y_pred = logreg_model.predict(X_test_scaled)\n"
   ]
  },
  {
   "cell_type": "code",
   "execution_count": 126,
   "id": "d057944a-125b-4a40-9dcd-d8694a604e68",
   "metadata": {},
   "outputs": [],
   "source": [
    "accuracy = accuracy_score(y_test, y_pred)\n",
    "classification_rep = classification_report(y_test, y_pred)"
   ]
  },
  {
   "cell_type": "code",
   "execution_count": 127,
   "id": "ffcbeada-019d-48b4-ac16-196ea108184d",
   "metadata": {},
   "outputs": [
    {
     "name": "stdout",
     "output_type": "stream",
     "text": [
      "Accuracy with SMOTE: 0.75\n",
      "Classification Report with SMOTE:\n",
      "               precision    recall  f1-score   support\n",
      "\n",
      "          No       0.90      0.74      0.81      1036\n",
      "         Yes       0.51      0.77      0.62       373\n",
      "\n",
      "    accuracy                           0.75      1409\n",
      "   macro avg       0.71      0.75      0.71      1409\n",
      "weighted avg       0.80      0.75      0.76      1409\n",
      "\n"
     ]
    }
   ],
   "source": [
    "print(f\"Accuracy with SMOTE: {accuracy:.2f}\")\n",
    "print(\"Classification Report with SMOTE:\\n\", classification_rep)"
   ]
  },
  {
   "cell_type": "markdown",
   "id": "ba776feb-dbd6-44cd-a067-847fe3e37d50",
   "metadata": {},
   "source": [
    "After applying SMOTE:\n",
    "\n",
    "Accuracy: 75%\n",
    "Precision: Improved for churned customers (\"Yes\") but decreased for non-churned (\"No\").\n",
    "Recall: Improved for churned customers (\"Yes\") and decreased for non-churned (\"No\").\n",
    "F1-score: Increased for churned customers (\"Yes\") but decreased for non-churned (\"No\").\n",
    "Overall, SMOTE improved the model's ability to predict churned customers but led to some trade-offs in precision and recall for non-churned customers."
   ]
  },
  {
   "cell_type": "markdown",
   "id": "8805efe0-67a8-4ad4-94d9-3dc7fce4a738",
   "metadata": {},
   "source": [
    "Without SMOTE (Original Model):\n",
    "\n",
    "Accuracy: 81%\n",
    "Precision for \"Yes\" (churned): 70%\n",
    "Recall for \"Yes\" (churned): 49%\n",
    "F1-score for \"Yes\" (churned): 57%\n",
    "\n",
    "\n",
    "With SMOTE:\n",
    "\n",
    "Accuracy: 75%\n",
    "Precision for \"Yes\" (churned): 51%\n",
    "Recall for \"Yes\" (churned): 77%\n",
    "F1-score for \"Yes\" (churned): 62%\n",
    "Comparing the two scenarios:\n",
    "\n",
    "The original model without SMOTE has higher accuracy, precision for the \"Yes\" class, and F1-score for the \"Yes\" class.\n",
    "The model with SMOTE has higher recall for the \"Yes\" class.\n",
    "Both approaches have their trade-offs: the original model focuses more on predicting the majority class (\"No\" churn), while the model with SMOTE performs better in identifying churned customers (\"Yes\"). The choice between these approaches depends on the specific goals of your analysis and the trade-offs you're willing to make between different performance metrics."
   ]
  },
  {
   "cell_type": "code",
   "execution_count": 128,
   "id": "1685884b-fd6c-4d7a-85a4-3265b9bf31c6",
   "metadata": {},
   "outputs": [],
   "source": [
    "independent_vars = [\"tenure\", \"SeniorCitizen\", \"MonthlyCharges\"]\n",
    "X = data[independent_vars]\n",
    "y = data[\"Churn\"]"
   ]
  },
  {
   "cell_type": "code",
   "execution_count": 129,
   "id": "c2bb35b2-8430-4125-b44d-91124bc51052",
   "metadata": {},
   "outputs": [],
   "source": [
    "X_train, X_test, y_train, y_test = train_test_split(X, y, test_size=0.2, random_state=42)"
   ]
  },
  {
   "cell_type": "code",
   "execution_count": 130,
   "id": "d823bdf2-f95c-4ae2-9d32-6fd564eec298",
   "metadata": {},
   "outputs": [],
   "source": [
    "scaler = StandardScaler()\n",
    "X_train_scaled = scaler.fit_transform(X_train)\n",
    "X_test_scaled = scaler.transform(X_test)"
   ]
  },
  {
   "cell_type": "code",
   "execution_count": 131,
   "id": "64917150-5b4f-4f97-b29b-1d2ea4002b90",
   "metadata": {},
   "outputs": [],
   "source": [
    "tomek_links = TomekLinks()\n",
    "X_train_resampled, y_train_resampled = tomek_links.fit_resample(X_train_scaled, y_train)\n"
   ]
  },
  {
   "cell_type": "code",
   "execution_count": 132,
   "id": "ddd1749b-3972-444d-a43a-7fc99669bd10",
   "metadata": {},
   "outputs": [
    {
     "data": {
      "text/html": [
       "<style>#sk-container-id-10 {color: black;background-color: white;}#sk-container-id-10 pre{padding: 0;}#sk-container-id-10 div.sk-toggleable {background-color: white;}#sk-container-id-10 label.sk-toggleable__label {cursor: pointer;display: block;width: 100%;margin-bottom: 0;padding: 0.3em;box-sizing: border-box;text-align: center;}#sk-container-id-10 label.sk-toggleable__label-arrow:before {content: \"▸\";float: left;margin-right: 0.25em;color: #696969;}#sk-container-id-10 label.sk-toggleable__label-arrow:hover:before {color: black;}#sk-container-id-10 div.sk-estimator:hover label.sk-toggleable__label-arrow:before {color: black;}#sk-container-id-10 div.sk-toggleable__content {max-height: 0;max-width: 0;overflow: hidden;text-align: left;background-color: #f0f8ff;}#sk-container-id-10 div.sk-toggleable__content pre {margin: 0.2em;color: black;border-radius: 0.25em;background-color: #f0f8ff;}#sk-container-id-10 input.sk-toggleable__control:checked~div.sk-toggleable__content {max-height: 200px;max-width: 100%;overflow: auto;}#sk-container-id-10 input.sk-toggleable__control:checked~label.sk-toggleable__label-arrow:before {content: \"▾\";}#sk-container-id-10 div.sk-estimator input.sk-toggleable__control:checked~label.sk-toggleable__label {background-color: #d4ebff;}#sk-container-id-10 div.sk-label input.sk-toggleable__control:checked~label.sk-toggleable__label {background-color: #d4ebff;}#sk-container-id-10 input.sk-hidden--visually {border: 0;clip: rect(1px 1px 1px 1px);clip: rect(1px, 1px, 1px, 1px);height: 1px;margin: -1px;overflow: hidden;padding: 0;position: absolute;width: 1px;}#sk-container-id-10 div.sk-estimator {font-family: monospace;background-color: #f0f8ff;border: 1px dotted black;border-radius: 0.25em;box-sizing: border-box;margin-bottom: 0.5em;}#sk-container-id-10 div.sk-estimator:hover {background-color: #d4ebff;}#sk-container-id-10 div.sk-parallel-item::after {content: \"\";width: 100%;border-bottom: 1px solid gray;flex-grow: 1;}#sk-container-id-10 div.sk-label:hover label.sk-toggleable__label {background-color: #d4ebff;}#sk-container-id-10 div.sk-serial::before {content: \"\";position: absolute;border-left: 1px solid gray;box-sizing: border-box;top: 0;bottom: 0;left: 50%;z-index: 0;}#sk-container-id-10 div.sk-serial {display: flex;flex-direction: column;align-items: center;background-color: white;padding-right: 0.2em;padding-left: 0.2em;position: relative;}#sk-container-id-10 div.sk-item {position: relative;z-index: 1;}#sk-container-id-10 div.sk-parallel {display: flex;align-items: stretch;justify-content: center;background-color: white;position: relative;}#sk-container-id-10 div.sk-item::before, #sk-container-id-10 div.sk-parallel-item::before {content: \"\";position: absolute;border-left: 1px solid gray;box-sizing: border-box;top: 0;bottom: 0;left: 50%;z-index: -1;}#sk-container-id-10 div.sk-parallel-item {display: flex;flex-direction: column;z-index: 1;position: relative;background-color: white;}#sk-container-id-10 div.sk-parallel-item:first-child::after {align-self: flex-end;width: 50%;}#sk-container-id-10 div.sk-parallel-item:last-child::after {align-self: flex-start;width: 50%;}#sk-container-id-10 div.sk-parallel-item:only-child::after {width: 0;}#sk-container-id-10 div.sk-dashed-wrapped {border: 1px dashed gray;margin: 0 0.4em 0.5em 0.4em;box-sizing: border-box;padding-bottom: 0.4em;background-color: white;}#sk-container-id-10 div.sk-label label {font-family: monospace;font-weight: bold;display: inline-block;line-height: 1.2em;}#sk-container-id-10 div.sk-label-container {text-align: center;}#sk-container-id-10 div.sk-container {/* jupyter's `normalize.less` sets `[hidden] { display: none; }` but bootstrap.min.css set `[hidden] { display: none !important; }` so we also need the `!important` here to be able to override the default hidden behavior on the sphinx rendered scikit-learn.org. See: https://github.com/scikit-learn/scikit-learn/issues/21755 */display: inline-block !important;position: relative;}#sk-container-id-10 div.sk-text-repr-fallback {display: none;}</style><div id=\"sk-container-id-10\" class=\"sk-top-container\"><div class=\"sk-text-repr-fallback\"><pre>LogisticRegression()</pre><b>In a Jupyter environment, please rerun this cell to show the HTML representation or trust the notebook. <br />On GitHub, the HTML representation is unable to render, please try loading this page with nbviewer.org.</b></div><div class=\"sk-container\" hidden><div class=\"sk-item\"><div class=\"sk-estimator sk-toggleable\"><input class=\"sk-toggleable__control sk-hidden--visually\" id=\"sk-estimator-id-10\" type=\"checkbox\" checked><label for=\"sk-estimator-id-10\" class=\"sk-toggleable__label sk-toggleable__label-arrow\">LogisticRegression</label><div class=\"sk-toggleable__content\"><pre>LogisticRegression()</pre></div></div></div></div></div>"
      ],
      "text/plain": [
       "LogisticRegression()"
      ]
     },
     "execution_count": 132,
     "metadata": {},
     "output_type": "execute_result"
    }
   ],
   "source": [
    "logreg_model = LogisticRegression()\n",
    "logreg_model.fit(X_train_resampled, y_train_resampled)"
   ]
  },
  {
   "cell_type": "code",
   "execution_count": 133,
   "id": "e5220f3a-dc2d-4716-ba3f-935cb586c4fd",
   "metadata": {},
   "outputs": [],
   "source": [
    "y_pred = logreg_model.predict(X_test_scaled)"
   ]
  },
  {
   "cell_type": "code",
   "execution_count": 134,
   "id": "37e83312-ccdb-47b5-b8d1-1b9e0ea88212",
   "metadata": {},
   "outputs": [],
   "source": [
    "accuracy = accuracy_score(y_test, y_pred)\n",
    "classification_rep = classification_report(y_test, y_pred)"
   ]
  },
  {
   "cell_type": "code",
   "execution_count": 135,
   "id": "9896a179-7714-4238-bb8b-b5e36b55e508",
   "metadata": {},
   "outputs": [
    {
     "name": "stdout",
     "output_type": "stream",
     "text": [
      "Accuracy with TomekLinks: 0.79\n",
      "Classification Report with TomekLinks:\n",
      "               precision    recall  f1-score   support\n",
      "\n",
      "          No       0.84      0.88      0.86      1036\n",
      "         Yes       0.62      0.55      0.58       373\n",
      "\n",
      "    accuracy                           0.79      1409\n",
      "   macro avg       0.73      0.72      0.72      1409\n",
      "weighted avg       0.79      0.79      0.79      1409\n",
      "\n"
     ]
    }
   ],
   "source": [
    "print(f\"Accuracy with TomekLinks: {accuracy:.2f}\")\n",
    "print(\"Classification Report with TomekLinks:\\n\", classification_rep)"
   ]
  },
  {
   "cell_type": "markdown",
   "id": "b7fb2c17-5025-43a5-a61e-05e8f99a0751",
   "metadata": {},
   "source": [
    "Conclusion:\n",
    "\n",
    "Applying different techniques like SMOTE and TomekLinks can have varying effects on the model's performance. In this case, using TomekLinks undersampling improved the model's ability to predict the minority class (\"Yes\" churned customers) by increasing its recall. However, it also slightly decreased the precision for the majority class (\"No\" non-churned customers). The choice of technique depends on the specific goals and trade-offs in your churn prediction problem.\n"
   ]
  },
  {
   "cell_type": "code",
   "execution_count": null,
   "id": "f1e69a5b-03c0-4468-aac5-3191e821a485",
   "metadata": {},
   "outputs": [],
   "source": []
  }
 ],
 "metadata": {
  "kernelspec": {
   "display_name": "Python 3 (ipykernel)",
   "language": "python",
   "name": "python3"
  },
  "language_info": {
   "codemirror_mode": {
    "name": "ipython",
    "version": 3
   },
   "file_extension": ".py",
   "mimetype": "text/x-python",
   "name": "python",
   "nbconvert_exporter": "python",
   "pygments_lexer": "ipython3",
   "version": "3.10.9"
  }
 },
 "nbformat": 4,
 "nbformat_minor": 5
}
